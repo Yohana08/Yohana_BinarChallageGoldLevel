{
 "cells": [
  {
   "cell_type": "markdown",
   "id": "5f54e83f",
   "metadata": {},
   "source": [
    "# Analisis Data"
   ]
  },
  {
   "cell_type": "markdown",
   "id": "f9e4eead",
   "metadata": {},
   "source": [
    "### Latarbelakang\n",
    "##### Pemilihan presiden merupakan kegiatan 5 tahun sekali sebagai momen perwujudan demokrasi di Negara Kesatuan Republik Indonesia.  Kandidat calon presiden pastinya mendapat berbagai komentar atau opini dari masyarakat yang selalu ramai diperbincangkan di dunia nyata maupun maya, khusunya di media sosial Twitter. Hal ini mendorong peneliti untuk menganalisa data tweet yang terkumpul untuk mengetahui sentimen masyrakat baik sentimen negatif, sentimen positif dan sentiment netral pada PEMILU 2019. \n",
    "##### Oleh karena itu, dengan diketahuinya sentimen masyarakat terhadap pemilu 2019 yang telah dilakukan, sentimen ini akan digunakan sebagai tolak ukur dalam PEMILU 2024 yang akan datang untuk mengetahui penilaian masyarakat terhadap kandidat calon presiden\n"
   ]
  },
  {
   "cell_type": "markdown",
   "id": "f55431c4",
   "metadata": {},
   "source": [
    "### Rumusan Masalah\n",
    "###### 1. Berapa total atau perbandingan tweet yang mengandung kata-kata kasar dan ujaran kebencian dari semua tweet yang ada?\n",
    "###### 2. Kepada siapa tweet ujaran kebencian diarahkan?\n",
    "###### 3. Topik apa yang paling sering dibicarakan dan berapa tingkat ujaran kebencian dalam tweet?"
   ]
  },
  {
   "cell_type": "code",
   "execution_count": 2,
   "id": "0ef5a9fc",
   "metadata": {},
   "outputs": [],
   "source": [
    "import pandas as pd\n",
    "import numpy as np\n",
    "import regex as re\n",
    "import seaborn as sns\n",
    "import matplotlib.pyplot as plt\n",
    "import sqlite3\n",
    "from collections import Counter"
   ]
  },
  {
   "cell_type": "markdown",
   "id": "dceb2b91",
   "metadata": {},
   "source": [
    "### Cek Data"
   ]
  },
  {
   "cell_type": "code",
   "execution_count": 3,
   "id": "cabcc8a4",
   "metadata": {},
   "outputs": [
    {
     "name": "stdout",
     "output_type": "stream",
     "text": [
      "Shape:  (125, 1)\n"
     ]
    },
    {
     "data": {
      "text/html": [
       "<div>\n",
       "<style scoped>\n",
       "    .dataframe tbody tr th:only-of-type {\n",
       "        vertical-align: middle;\n",
       "    }\n",
       "\n",
       "    .dataframe tbody tr th {\n",
       "        vertical-align: top;\n",
       "    }\n",
       "\n",
       "    .dataframe thead th {\n",
       "        text-align: right;\n",
       "    }\n",
       "</style>\n",
       "<table border=\"1\" class=\"dataframe\">\n",
       "  <thead>\n",
       "    <tr style=\"text-align: right;\">\n",
       "      <th></th>\n",
       "      <th>ABUSIVE</th>\n",
       "    </tr>\n",
       "  </thead>\n",
       "  <tbody>\n",
       "    <tr>\n",
       "      <th>0</th>\n",
       "      <td>alay</td>\n",
       "    </tr>\n",
       "    <tr>\n",
       "      <th>1</th>\n",
       "      <td>ampas</td>\n",
       "    </tr>\n",
       "    <tr>\n",
       "      <th>2</th>\n",
       "      <td>buta</td>\n",
       "    </tr>\n",
       "    <tr>\n",
       "      <th>3</th>\n",
       "      <td>keparat</td>\n",
       "    </tr>\n",
       "    <tr>\n",
       "      <th>4</th>\n",
       "      <td>anjing</td>\n",
       "    </tr>\n",
       "    <tr>\n",
       "      <th>5</th>\n",
       "      <td>anjir</td>\n",
       "    </tr>\n",
       "    <tr>\n",
       "      <th>6</th>\n",
       "      <td>babi</td>\n",
       "    </tr>\n",
       "    <tr>\n",
       "      <th>7</th>\n",
       "      <td>bacot</td>\n",
       "    </tr>\n",
       "    <tr>\n",
       "      <th>8</th>\n",
       "      <td>bajingan</td>\n",
       "    </tr>\n",
       "    <tr>\n",
       "      <th>9</th>\n",
       "      <td>banci</td>\n",
       "    </tr>\n",
       "  </tbody>\n",
       "</table>\n",
       "</div>"
      ],
      "text/plain": [
       "    ABUSIVE\n",
       "0      alay\n",
       "1     ampas\n",
       "2      buta\n",
       "3   keparat\n",
       "4    anjing\n",
       "5     anjir\n",
       "6      babi\n",
       "7     bacot\n",
       "8  bajingan\n",
       "9     banci"
      ]
     },
     "execution_count": 3,
     "metadata": {},
     "output_type": "execute_result"
    }
   ],
   "source": [
    "#cek data abusive\n",
    "abusive = pd.read_csv(\"abusive.csv\")\n",
    "print(\"Shape: \", abusive.shape)\n",
    "abusive.head(10)"
   ]
  },
  {
   "cell_type": "code",
   "execution_count": 4,
   "id": "aba0a736",
   "metadata": {},
   "outputs": [
    {
     "name": "stdout",
     "output_type": "stream",
     "text": [
      "Shape:  (15167, 2) <class 'pandas.core.frame.DataFrame'>\n"
     ]
    },
    {
     "data": {
      "text/html": [
       "<div>\n",
       "<style scoped>\n",
       "    .dataframe tbody tr th:only-of-type {\n",
       "        vertical-align: middle;\n",
       "    }\n",
       "\n",
       "    .dataframe tbody tr th {\n",
       "        vertical-align: top;\n",
       "    }\n",
       "\n",
       "    .dataframe thead th {\n",
       "        text-align: right;\n",
       "    }\n",
       "</style>\n",
       "<table border=\"1\" class=\"dataframe\">\n",
       "  <thead>\n",
       "    <tr style=\"text-align: right;\">\n",
       "      <th></th>\n",
       "      <th>original</th>\n",
       "      <th>replacement</th>\n",
       "    </tr>\n",
       "  </thead>\n",
       "  <tbody>\n",
       "    <tr>\n",
       "      <th>0</th>\n",
       "      <td>anakjakartaasikasik</td>\n",
       "      <td>anak jakarta asyik asyik</td>\n",
       "    </tr>\n",
       "    <tr>\n",
       "      <th>1</th>\n",
       "      <td>pakcikdahtua</td>\n",
       "      <td>pak cik sudah tua</td>\n",
       "    </tr>\n",
       "    <tr>\n",
       "      <th>2</th>\n",
       "      <td>pakcikmudalagi</td>\n",
       "      <td>pak cik muda lagi</td>\n",
       "    </tr>\n",
       "    <tr>\n",
       "      <th>3</th>\n",
       "      <td>t3tapjokowi</td>\n",
       "      <td>tetap jokowi</td>\n",
       "    </tr>\n",
       "    <tr>\n",
       "      <th>4</th>\n",
       "      <td>3x</td>\n",
       "      <td>tiga kali</td>\n",
       "    </tr>\n",
       "  </tbody>\n",
       "</table>\n",
       "</div>"
      ],
      "text/plain": [
       "              original               replacement\n",
       "0  anakjakartaasikasik  anak jakarta asyik asyik\n",
       "1         pakcikdahtua         pak cik sudah tua\n",
       "2       pakcikmudalagi         pak cik muda lagi\n",
       "3          t3tapjokowi              tetap jokowi\n",
       "4                   3x                 tiga kali"
      ]
     },
     "execution_count": 4,
     "metadata": {},
     "output_type": "execute_result"
    }
   ],
   "source": [
    "#cek data kamus alay\n",
    "kamusalay = pd.read_csv('new_kamusalay.csv', encoding='ISO-8859-1', header=None)\n",
    "kamusalay = kamusalay.rename(columns={0: 'original', \n",
    "                                      1: 'replacement'})\n",
    "print(\"Shape: \", kamusalay.shape, type(kamusalay))\n",
    "kamusalay.head()"
   ]
  },
  {
   "cell_type": "code",
   "execution_count": 5,
   "id": "28f88f6d",
   "metadata": {},
   "outputs": [],
   "source": [
    "#Cek data.csv atau data_tweet\n",
    "\n",
    "data = pd.read_csv('data.csv', encoding='ISO-8859-1')"
   ]
  },
  {
   "cell_type": "code",
   "execution_count": 6,
   "id": "1d22802a",
   "metadata": {
    "scrolled": true
   },
   "outputs": [
    {
     "data": {
      "text/html": [
       "<div>\n",
       "<style scoped>\n",
       "    .dataframe tbody tr th:only-of-type {\n",
       "        vertical-align: middle;\n",
       "    }\n",
       "\n",
       "    .dataframe tbody tr th {\n",
       "        vertical-align: top;\n",
       "    }\n",
       "\n",
       "    .dataframe thead th {\n",
       "        text-align: right;\n",
       "    }\n",
       "</style>\n",
       "<table border=\"1\" class=\"dataframe\">\n",
       "  <thead>\n",
       "    <tr style=\"text-align: right;\">\n",
       "      <th></th>\n",
       "      <th>Tweet</th>\n",
       "      <th>HS</th>\n",
       "      <th>Abusive</th>\n",
       "      <th>HS_Individual</th>\n",
       "      <th>HS_Group</th>\n",
       "      <th>HS_Religion</th>\n",
       "      <th>HS_Race</th>\n",
       "      <th>HS_Physical</th>\n",
       "      <th>HS_Gender</th>\n",
       "      <th>HS_Other</th>\n",
       "      <th>HS_Weak</th>\n",
       "      <th>HS_Moderate</th>\n",
       "      <th>HS_Strong</th>\n",
       "    </tr>\n",
       "  </thead>\n",
       "  <tbody>\n",
       "    <tr>\n",
       "      <th>0</th>\n",
       "      <td>- disaat semua cowok berusaha melacak perhatia...</td>\n",
       "      <td>1</td>\n",
       "      <td>1</td>\n",
       "      <td>1</td>\n",
       "      <td>0</td>\n",
       "      <td>0</td>\n",
       "      <td>0</td>\n",
       "      <td>0</td>\n",
       "      <td>0</td>\n",
       "      <td>1</td>\n",
       "      <td>1</td>\n",
       "      <td>0</td>\n",
       "      <td>0</td>\n",
       "    </tr>\n",
       "    <tr>\n",
       "      <th>1</th>\n",
       "      <td>RT USER: USER siapa yang telat ngasih tau elu?...</td>\n",
       "      <td>0</td>\n",
       "      <td>1</td>\n",
       "      <td>0</td>\n",
       "      <td>0</td>\n",
       "      <td>0</td>\n",
       "      <td>0</td>\n",
       "      <td>0</td>\n",
       "      <td>0</td>\n",
       "      <td>0</td>\n",
       "      <td>0</td>\n",
       "      <td>0</td>\n",
       "      <td>0</td>\n",
       "    </tr>\n",
       "    <tr>\n",
       "      <th>2</th>\n",
       "      <td>41. Kadang aku berfikir, kenapa aku tetap perc...</td>\n",
       "      <td>0</td>\n",
       "      <td>0</td>\n",
       "      <td>0</td>\n",
       "      <td>0</td>\n",
       "      <td>0</td>\n",
       "      <td>0</td>\n",
       "      <td>0</td>\n",
       "      <td>0</td>\n",
       "      <td>0</td>\n",
       "      <td>0</td>\n",
       "      <td>0</td>\n",
       "      <td>0</td>\n",
       "    </tr>\n",
       "  </tbody>\n",
       "</table>\n",
       "</div>"
      ],
      "text/plain": [
       "                                               Tweet  HS  Abusive  \\\n",
       "0  - disaat semua cowok berusaha melacak perhatia...   1        1   \n",
       "1  RT USER: USER siapa yang telat ngasih tau elu?...   0        1   \n",
       "2  41. Kadang aku berfikir, kenapa aku tetap perc...   0        0   \n",
       "\n",
       "   HS_Individual  HS_Group  HS_Religion  HS_Race  HS_Physical  HS_Gender  \\\n",
       "0              1         0            0        0            0          0   \n",
       "1              0         0            0        0            0          0   \n",
       "2              0         0            0        0            0          0   \n",
       "\n",
       "   HS_Other  HS_Weak  HS_Moderate  HS_Strong  \n",
       "0         1        1            0          0  \n",
       "1         0        0            0          0  \n",
       "2         0        0            0          0  "
      ]
     },
     "execution_count": 6,
     "metadata": {},
     "output_type": "execute_result"
    }
   ],
   "source": [
    "#Head data.csv atau data_tweet\n",
    "\n",
    "data.head(3)"
   ]
  },
  {
   "cell_type": "markdown",
   "id": "c2c395ea",
   "metadata": {},
   "source": [
    "### Info data tweet"
   ]
  },
  {
   "cell_type": "code",
   "execution_count": 7,
   "id": "1e213d7d",
   "metadata": {},
   "outputs": [
    {
     "name": "stdout",
     "output_type": "stream",
     "text": [
      "<class 'pandas.core.frame.DataFrame'>\n",
      "RangeIndex: 13169 entries, 0 to 13168\n",
      "Data columns (total 13 columns):\n",
      " #   Column         Non-Null Count  Dtype \n",
      "---  ------         --------------  ----- \n",
      " 0   Tweet          13169 non-null  object\n",
      " 1   HS             13169 non-null  int64 \n",
      " 2   Abusive        13169 non-null  int64 \n",
      " 3   HS_Individual  13169 non-null  int64 \n",
      " 4   HS_Group       13169 non-null  int64 \n",
      " 5   HS_Religion    13169 non-null  int64 \n",
      " 6   HS_Race        13169 non-null  int64 \n",
      " 7   HS_Physical    13169 non-null  int64 \n",
      " 8   HS_Gender      13169 non-null  int64 \n",
      " 9   HS_Other       13169 non-null  int64 \n",
      " 10  HS_Weak        13169 non-null  int64 \n",
      " 11  HS_Moderate    13169 non-null  int64 \n",
      " 12  HS_Strong      13169 non-null  int64 \n",
      "dtypes: int64(12), object(1)\n",
      "memory usage: 1.3+ MB\n"
     ]
    }
   ],
   "source": [
    "#info data.csv atau data_tweet\n",
    "\n",
    "data.info()"
   ]
  },
  {
   "cell_type": "code",
   "execution_count": 8,
   "id": "0db2e8e7",
   "metadata": {},
   "outputs": [
    {
     "data": {
      "text/plain": [
       "13169"
      ]
     },
     "execution_count": 8,
     "metadata": {},
     "output_type": "execute_result"
    }
   ],
   "source": [
    "# cek panjang data.csv atau data_tweet\n",
    "\n",
    "len(data)"
   ]
  },
  {
   "cell_type": "code",
   "execution_count": 9,
   "id": "6ca17b04",
   "metadata": {},
   "outputs": [
    {
     "data": {
      "text/plain": [
       "(13169, 13)"
      ]
     },
     "execution_count": 9,
     "metadata": {},
     "output_type": "execute_result"
    }
   ],
   "source": [
    "data.shape"
   ]
  },
  {
   "cell_type": "code",
   "execution_count": 10,
   "id": "441f68e2",
   "metadata": {
    "scrolled": true
   },
   "outputs": [
    {
     "data": {
      "text/plain": [
       "Tweet            0\n",
       "HS               0\n",
       "Abusive          0\n",
       "HS_Individual    0\n",
       "HS_Group         0\n",
       "HS_Religion      0\n",
       "HS_Race          0\n",
       "HS_Physical      0\n",
       "HS_Gender        0\n",
       "HS_Other         0\n",
       "HS_Weak          0\n",
       "HS_Moderate      0\n",
       "HS_Strong        0\n",
       "dtype: int64"
      ]
     },
     "execution_count": 10,
     "metadata": {},
     "output_type": "execute_result"
    }
   ],
   "source": [
    "#Cek Missing Value data.csv atau data_tweet\n",
    "\n",
    "data.isnull().sum()"
   ]
  },
  {
   "cell_type": "code",
   "execution_count": 11,
   "id": "fad40d62",
   "metadata": {},
   "outputs": [
    {
     "data": {
      "text/plain": [
       "125"
      ]
     },
     "execution_count": 11,
     "metadata": {},
     "output_type": "execute_result"
    }
   ],
   "source": [
    "# Cek Duplikat Data\n",
    "\n",
    "data.duplicated().sum()"
   ]
  },
  {
   "cell_type": "code",
   "execution_count": 12,
   "id": "bb1ed07d",
   "metadata": {},
   "outputs": [],
   "source": [
    "# Remove duplicated data.csv atau data.tweet\n",
    "\n",
    "data = data.drop_duplicates()"
   ]
  },
  {
   "cell_type": "code",
   "execution_count": 13,
   "id": "06ce5284",
   "metadata": {},
   "outputs": [
    {
     "data": {
      "text/plain": [
       "0"
      ]
     },
     "execution_count": 13,
     "metadata": {},
     "output_type": "execute_result"
    }
   ],
   "source": [
    "# Cek Sanitasi data csv atau data.tweet\n",
    "\n",
    "data.duplicated().sum()"
   ]
  },
  {
   "cell_type": "markdown",
   "id": "f9d9f5d9",
   "metadata": {},
   "source": [
    "### Tweet berisi Hate Speech and Abusive Words"
   ]
  },
  {
   "cell_type": "code",
   "execution_count": 14,
   "id": "f7971194",
   "metadata": {},
   "outputs": [],
   "source": [
    "# buat kolom baru dengan tipe tweet baru\n",
    "\n",
    "def tweet(x):\n",
    "    if x['HS'] == 1 and x['Abusive'] == 1:\n",
    "        return 'Hate Speech & Abusive'\n",
    "    elif x['HS'] == 1 and x['Abusive'] == 0:\n",
    "        return 'Hate Speech'\n",
    "    elif x['HS'] == 0 and x['Abusive'] == 1:\n",
    "        return 'Abusive'\n",
    "    else:\n",
    "        return 'None'\n",
    "\n",
    "data['Type'] = data.apply(tweet, axis=1)"
   ]
  },
  {
   "cell_type": "code",
   "execution_count": 15,
   "id": "25281b15",
   "metadata": {},
   "outputs": [
    {
     "data": {
      "text/html": [
       "<div>\n",
       "<style scoped>\n",
       "    .dataframe tbody tr th:only-of-type {\n",
       "        vertical-align: middle;\n",
       "    }\n",
       "\n",
       "    .dataframe tbody tr th {\n",
       "        vertical-align: top;\n",
       "    }\n",
       "\n",
       "    .dataframe thead th {\n",
       "        text-align: right;\n",
       "    }\n",
       "</style>\n",
       "<table border=\"1\" class=\"dataframe\">\n",
       "  <thead>\n",
       "    <tr style=\"text-align: right;\">\n",
       "      <th></th>\n",
       "      <th>Tweet</th>\n",
       "      <th>HS</th>\n",
       "      <th>Abusive</th>\n",
       "      <th>HS_Individual</th>\n",
       "      <th>HS_Group</th>\n",
       "      <th>HS_Religion</th>\n",
       "      <th>HS_Race</th>\n",
       "      <th>HS_Physical</th>\n",
       "      <th>HS_Gender</th>\n",
       "      <th>HS_Other</th>\n",
       "      <th>HS_Weak</th>\n",
       "      <th>HS_Moderate</th>\n",
       "      <th>HS_Strong</th>\n",
       "      <th>Type</th>\n",
       "    </tr>\n",
       "  </thead>\n",
       "  <tbody>\n",
       "    <tr>\n",
       "      <th>0</th>\n",
       "      <td>- disaat semua cowok berusaha melacak perhatia...</td>\n",
       "      <td>1</td>\n",
       "      <td>1</td>\n",
       "      <td>1</td>\n",
       "      <td>0</td>\n",
       "      <td>0</td>\n",
       "      <td>0</td>\n",
       "      <td>0</td>\n",
       "      <td>0</td>\n",
       "      <td>1</td>\n",
       "      <td>1</td>\n",
       "      <td>0</td>\n",
       "      <td>0</td>\n",
       "      <td>Hate Speech &amp; Abusive</td>\n",
       "    </tr>\n",
       "    <tr>\n",
       "      <th>1</th>\n",
       "      <td>RT USER: USER siapa yang telat ngasih tau elu?...</td>\n",
       "      <td>0</td>\n",
       "      <td>1</td>\n",
       "      <td>0</td>\n",
       "      <td>0</td>\n",
       "      <td>0</td>\n",
       "      <td>0</td>\n",
       "      <td>0</td>\n",
       "      <td>0</td>\n",
       "      <td>0</td>\n",
       "      <td>0</td>\n",
       "      <td>0</td>\n",
       "      <td>0</td>\n",
       "      <td>Abusive</td>\n",
       "    </tr>\n",
       "    <tr>\n",
       "      <th>2</th>\n",
       "      <td>41. Kadang aku berfikir, kenapa aku tetap perc...</td>\n",
       "      <td>0</td>\n",
       "      <td>0</td>\n",
       "      <td>0</td>\n",
       "      <td>0</td>\n",
       "      <td>0</td>\n",
       "      <td>0</td>\n",
       "      <td>0</td>\n",
       "      <td>0</td>\n",
       "      <td>0</td>\n",
       "      <td>0</td>\n",
       "      <td>0</td>\n",
       "      <td>0</td>\n",
       "      <td>None</td>\n",
       "    </tr>\n",
       "  </tbody>\n",
       "</table>\n",
       "</div>"
      ],
      "text/plain": [
       "                                               Tweet  HS  Abusive  \\\n",
       "0  - disaat semua cowok berusaha melacak perhatia...   1        1   \n",
       "1  RT USER: USER siapa yang telat ngasih tau elu?...   0        1   \n",
       "2  41. Kadang aku berfikir, kenapa aku tetap perc...   0        0   \n",
       "\n",
       "   HS_Individual  HS_Group  HS_Religion  HS_Race  HS_Physical  HS_Gender  \\\n",
       "0              1         0            0        0            0          0   \n",
       "1              0         0            0        0            0          0   \n",
       "2              0         0            0        0            0          0   \n",
       "\n",
       "   HS_Other  HS_Weak  HS_Moderate  HS_Strong                   Type  \n",
       "0         1        1            0          0  Hate Speech & Abusive  \n",
       "1         0        0            0          0                Abusive  \n",
       "2         0        0            0          0                   None  "
      ]
     },
     "execution_count": 15,
     "metadata": {},
     "output_type": "execute_result"
    }
   ],
   "source": [
    "# Dataset data_tweet\n",
    "data.head(3)"
   ]
  },
  {
   "cell_type": "code",
   "execution_count": 16,
   "id": "74e3609a",
   "metadata": {},
   "outputs": [
    {
     "data": {
      "text/plain": [
       "None                     5783\n",
       "Hate Speech & Abusive    3262\n",
       "Hate Speech              2256\n",
       "Abusive                  1743\n",
       "Name: Type, dtype: int64"
      ]
     },
     "execution_count": 16,
     "metadata": {},
     "output_type": "execute_result"
    }
   ],
   "source": [
    "# Klasifikasi data_tweet\n",
    "\n",
    "data['Type'].value_counts()"
   ]
  },
  {
   "cell_type": "code",
   "execution_count": 17,
   "id": "aec289d8",
   "metadata": {},
   "outputs": [
    {
     "data": {
      "text/plain": [
       "<Figure size 800x600 with 0 Axes>"
      ]
     },
     "execution_count": 17,
     "metadata": {},
     "output_type": "execute_result"
    },
    {
     "data": {
      "text/plain": [
       "<Figure size 800x600 with 0 Axes>"
      ]
     },
     "metadata": {},
     "output_type": "display_data"
    }
   ],
   "source": [
    "plt.figure(figsize=(8,6))"
   ]
  },
  {
   "cell_type": "code",
   "execution_count": 18,
   "id": "45f55dca",
   "metadata": {},
   "outputs": [
    {
     "data": {
      "image/png": "[encoded data removed]",
      "text/plain": [
       "<Figure size 800x600 with 1 Axes>"
      ]
     },
     "metadata": {},
     "output_type": "display_data"
    }
   ],
   "source": [
    "#Visualisasi dengan matplotlib\n",
    "\n",
    "plt.figure(figsize=(8,6))\n",
    "plt.title('Jumlah Data Tweet Berdasarkan type', fontsize=14)\n",
    "plt.pie(data['Type'].value_counts(), labels=data['Type'].unique(), autopct='%1.1f%%')\n",
    "plt.show()"
   ]
  },
  {
   "cell_type": "markdown",
   "id": "2e2aeab3",
   "metadata": {},
   "source": [
    "### Target Hate Speech Tweet"
   ]
  },
  {
   "cell_type": "code",
   "execution_count": 19,
   "id": "cb2f545e",
   "metadata": {},
   "outputs": [],
   "source": [
    "# Membuat Kolom baru untuk negative tweet target\n",
    "\n",
    "def target(x):\n",
    "    if x['HS_Individual'] == 1 and x['HS_Group'] == 1:\n",
    "        return 'Both'\n",
    "    elif x['HS_Individual'] == 1 and x['HS_Group'] == 0:\n",
    "        return 'Individual'\n",
    "    elif x['HS_Individual'] == 0 and x['HS_Group'] == 1:\n",
    "        return 'Group'\n",
    "    else:\n",
    "        return 'None'\n",
    "\n",
    "data['Target'] = data.apply(target, axis=1)"
   ]
  },
  {
   "cell_type": "code",
   "execution_count": 20,
   "id": "a7842ec5",
   "metadata": {},
   "outputs": [
    {
     "data": {
      "text/html": [
       "<div>\n",
       "<style scoped>\n",
       "    .dataframe tbody tr th:only-of-type {\n",
       "        vertical-align: middle;\n",
       "    }\n",
       "\n",
       "    .dataframe tbody tr th {\n",
       "        vertical-align: top;\n",
       "    }\n",
       "\n",
       "    .dataframe thead th {\n",
       "        text-align: right;\n",
       "    }\n",
       "</style>\n",
       "<table border=\"1\" class=\"dataframe\">\n",
       "  <thead>\n",
       "    <tr style=\"text-align: right;\">\n",
       "      <th></th>\n",
       "      <th>Tweet</th>\n",
       "      <th>HS</th>\n",
       "      <th>Abusive</th>\n",
       "      <th>HS_Individual</th>\n",
       "      <th>HS_Group</th>\n",
       "      <th>HS_Religion</th>\n",
       "      <th>HS_Race</th>\n",
       "      <th>HS_Physical</th>\n",
       "      <th>HS_Gender</th>\n",
       "      <th>HS_Other</th>\n",
       "      <th>HS_Weak</th>\n",
       "      <th>HS_Moderate</th>\n",
       "      <th>HS_Strong</th>\n",
       "      <th>Type</th>\n",
       "      <th>Target</th>\n",
       "    </tr>\n",
       "  </thead>\n",
       "  <tbody>\n",
       "    <tr>\n",
       "      <th>0</th>\n",
       "      <td>- disaat semua cowok berusaha melacak perhatia...</td>\n",
       "      <td>1</td>\n",
       "      <td>1</td>\n",
       "      <td>1</td>\n",
       "      <td>0</td>\n",
       "      <td>0</td>\n",
       "      <td>0</td>\n",
       "      <td>0</td>\n",
       "      <td>0</td>\n",
       "      <td>1</td>\n",
       "      <td>1</td>\n",
       "      <td>0</td>\n",
       "      <td>0</td>\n",
       "      <td>Hate Speech &amp; Abusive</td>\n",
       "      <td>Individual</td>\n",
       "    </tr>\n",
       "    <tr>\n",
       "      <th>1</th>\n",
       "      <td>RT USER: USER siapa yang telat ngasih tau elu?...</td>\n",
       "      <td>0</td>\n",
       "      <td>1</td>\n",
       "      <td>0</td>\n",
       "      <td>0</td>\n",
       "      <td>0</td>\n",
       "      <td>0</td>\n",
       "      <td>0</td>\n",
       "      <td>0</td>\n",
       "      <td>0</td>\n",
       "      <td>0</td>\n",
       "      <td>0</td>\n",
       "      <td>0</td>\n",
       "      <td>Abusive</td>\n",
       "      <td>None</td>\n",
       "    </tr>\n",
       "    <tr>\n",
       "      <th>2</th>\n",
       "      <td>41. Kadang aku berfikir, kenapa aku tetap perc...</td>\n",
       "      <td>0</td>\n",
       "      <td>0</td>\n",
       "      <td>0</td>\n",
       "      <td>0</td>\n",
       "      <td>0</td>\n",
       "      <td>0</td>\n",
       "      <td>0</td>\n",
       "      <td>0</td>\n",
       "      <td>0</td>\n",
       "      <td>0</td>\n",
       "      <td>0</td>\n",
       "      <td>0</td>\n",
       "      <td>None</td>\n",
       "      <td>None</td>\n",
       "    </tr>\n",
       "  </tbody>\n",
       "</table>\n",
       "</div>"
      ],
      "text/plain": [
       "                                               Tweet  HS  Abusive  \\\n",
       "0  - disaat semua cowok berusaha melacak perhatia...   1        1   \n",
       "1  RT USER: USER siapa yang telat ngasih tau elu?...   0        1   \n",
       "2  41. Kadang aku berfikir, kenapa aku tetap perc...   0        0   \n",
       "\n",
       "   HS_Individual  HS_Group  HS_Religion  HS_Race  HS_Physical  HS_Gender  \\\n",
       "0              1         0            0        0            0          0   \n",
       "1              0         0            0        0            0          0   \n",
       "2              0         0            0        0            0          0   \n",
       "\n",
       "   HS_Other  HS_Weak  HS_Moderate  HS_Strong                   Type  \\\n",
       "0         1        1            0          0  Hate Speech & Abusive   \n",
       "1         0        0            0          0                Abusive   \n",
       "2         0        0            0          0                   None   \n",
       "\n",
       "       Target  \n",
       "0  Individual  \n",
       "1        None  \n",
       "2        None  "
      ]
     },
     "execution_count": 20,
     "metadata": {},
     "output_type": "execute_result"
    }
   ],
   "source": [
    "#Head Data set\n",
    "\n",
    "data.head(3)"
   ]
  },
  {
   "cell_type": "code",
   "execution_count": 21,
   "id": "33cda658",
   "metadata": {},
   "outputs": [
    {
     "data": {
      "text/plain": [
       "Individual    3540\n",
       "Group         1978\n",
       "Name: Target, dtype: int64"
      ]
     },
     "execution_count": 21,
     "metadata": {},
     "output_type": "execute_result"
    }
   ],
   "source": [
    "# Klasifikasi Tweet target \n",
    "\n",
    "filter = data['Target'] == 'None'\n",
    "data[~filter]['Target'].value_counts()\n"
   ]
  },
  {
   "cell_type": "code",
   "execution_count": 22,
   "id": "d3ead199",
   "metadata": {},
   "outputs": [
    {
     "data": {
      "text/plain": [
       "<Axes: ylabel='Target'>"
      ]
     },
     "execution_count": 22,
     "metadata": {},
     "output_type": "execute_result"
    },
    {
     "data": {
      "image/png": "[encoded data removed]",
      "text/plain": [
       "<Figure size 640x480 with 1 Axes>"
      ]
     },
     "metadata": {},
     "output_type": "display_data"
    }
   ],
   "source": [
    "data[~filter]['Target'].value_counts().plot.pie(autopct='%1.0f%%', colors = ['#F28907','#4158D9'])"
   ]
  },
  {
   "cell_type": "markdown",
   "id": "89c8a26d",
   "metadata": {},
   "source": [
    "### Topik dan Level Negative Tweets yang paling banyak dibahas"
   ]
  },
  {
   "cell_type": "code",
   "execution_count": 23,
   "id": "46a52b6f",
   "metadata": {},
   "outputs": [],
   "source": [
    "# Membuat Data Frame baru untuk Hate Speech Tweet Level\n",
    "\n",
    "df_level = data[(data['HS_Weak'] == 1) | (data['HS_Moderate']==1) | (data['HS_Strong']==1)].reset_index()"
   ]
  },
  {
   "cell_type": "code",
   "execution_count": 24,
   "id": "917e2e7c",
   "metadata": {},
   "outputs": [],
   "source": [
    "#Membuat Kolom baru negative tweet level\n",
    "\n",
    "def level(x):\n",
    "    if x['HS_Weak'] == 1:\n",
    "        return 'Weak'\n",
    "    elif x['HS_Moderate'] == 1:\n",
    "        return 'Moderate'\n",
    "    elif x['HS_Strong'] == 1:\n",
    "        return 'Strong'\n",
    "    else:\n",
    "        return 'None'\n",
    "    \n",
    "df_level['Level'] = df_level.apply(level, axis = 1)"
   ]
  },
  {
   "cell_type": "code",
   "execution_count": 25,
   "id": "05d15946",
   "metadata": {},
   "outputs": [
    {
     "data": {
      "text/html": [
       "<div>\n",
       "<style scoped>\n",
       "    .dataframe tbody tr th:only-of-type {\n",
       "        vertical-align: middle;\n",
       "    }\n",
       "\n",
       "    .dataframe tbody tr th {\n",
       "        vertical-align: top;\n",
       "    }\n",
       "\n",
       "    .dataframe thead th {\n",
       "        text-align: right;\n",
       "    }\n",
       "</style>\n",
       "<table border=\"1\" class=\"dataframe\">\n",
       "  <thead>\n",
       "    <tr style=\"text-align: right;\">\n",
       "      <th></th>\n",
       "      <th>index</th>\n",
       "      <th>Level</th>\n",
       "    </tr>\n",
       "  </thead>\n",
       "  <tbody>\n",
       "    <tr>\n",
       "      <th>0</th>\n",
       "      <td>0</td>\n",
       "      <td>Weak</td>\n",
       "    </tr>\n",
       "    <tr>\n",
       "      <th>1</th>\n",
       "      <td>4</td>\n",
       "      <td>Moderate</td>\n",
       "    </tr>\n",
       "    <tr>\n",
       "      <th>2</th>\n",
       "      <td>5</td>\n",
       "      <td>Moderate</td>\n",
       "    </tr>\n",
       "    <tr>\n",
       "      <th>3</th>\n",
       "      <td>10</td>\n",
       "      <td>Weak</td>\n",
       "    </tr>\n",
       "    <tr>\n",
       "      <th>4</th>\n",
       "      <td>11</td>\n",
       "      <td>Weak</td>\n",
       "    </tr>\n",
       "  </tbody>\n",
       "</table>\n",
       "</div>"
      ],
      "text/plain": [
       "   index     Level\n",
       "0      0      Weak\n",
       "1      4  Moderate\n",
       "2      5  Moderate\n",
       "3     10      Weak\n",
       "4     11      Weak"
      ]
     },
     "execution_count": 25,
     "metadata": {},
     "output_type": "execute_result"
    }
   ],
   "source": [
    "# Select interesting column\n",
    "\n",
    "df_level = pd.DataFrame(df_level, columns=['index', 'Level'])\n",
    "\n",
    "# Take a look at dataframe\n",
    "\n",
    "df_level.head()"
   ]
  },
  {
   "cell_type": "code",
   "execution_count": 26,
   "id": "ee449439",
   "metadata": {},
   "outputs": [],
   "source": [
    "#Membuat Data Frame Baru Untuk Topik Hate Speech Tweet\n",
    "\n",
    "df_topic = data[data['Target'] != 'None'].reset_index()"
   ]
  },
  {
   "cell_type": "code",
   "execution_count": 27,
   "id": "df6b61f6",
   "metadata": {},
   "outputs": [],
   "source": [
    "#Membuat kolom baru topik negative tweet\n",
    "\n",
    "def HStopic(x):\n",
    "    if x['HS_Religion'] == 1:\n",
    "        return 'Religion'\n",
    "    elif x['HS_Race'] == 1:\n",
    "        return 'Race'\n",
    "    elif x['HS_Physical'] == 1:\n",
    "        return 'Physical'\n",
    "    elif x['HS_Gender'] == 1:\n",
    "        return 'Gender' \n",
    "    else:\n",
    "        return 'Other'\n",
    "    \n",
    "df_topic['Topic'] = df_topic.apply(HStopic, axis = 1)"
   ]
  },
  {
   "cell_type": "code",
   "execution_count": 28,
   "id": "91058de6",
   "metadata": {},
   "outputs": [],
   "source": [
    "# Select Interesting Column\n",
    "\n",
    "df_topic = pd.DataFrame(df_topic, columns=['index', 'Topic'])"
   ]
  },
  {
   "cell_type": "code",
   "execution_count": 29,
   "id": "0ff30c8e",
   "metadata": {},
   "outputs": [
    {
     "data": {
      "text/html": [
       "<div>\n",
       "<style scoped>\n",
       "    .dataframe tbody tr th:only-of-type {\n",
       "        vertical-align: middle;\n",
       "    }\n",
       "\n",
       "    .dataframe tbody tr th {\n",
       "        vertical-align: top;\n",
       "    }\n",
       "\n",
       "    .dataframe thead th {\n",
       "        text-align: right;\n",
       "    }\n",
       "</style>\n",
       "<table border=\"1\" class=\"dataframe\">\n",
       "  <thead>\n",
       "    <tr style=\"text-align: right;\">\n",
       "      <th></th>\n",
       "      <th>index</th>\n",
       "      <th>Topic</th>\n",
       "    </tr>\n",
       "  </thead>\n",
       "  <tbody>\n",
       "    <tr>\n",
       "      <th>0</th>\n",
       "      <td>0</td>\n",
       "      <td>Other</td>\n",
       "    </tr>\n",
       "    <tr>\n",
       "      <th>1</th>\n",
       "      <td>4</td>\n",
       "      <td>Religion</td>\n",
       "    </tr>\n",
       "    <tr>\n",
       "      <th>2</th>\n",
       "      <td>5</td>\n",
       "      <td>Other</td>\n",
       "    </tr>\n",
       "    <tr>\n",
       "      <th>3</th>\n",
       "      <td>10</td>\n",
       "      <td>Other</td>\n",
       "    </tr>\n",
       "    <tr>\n",
       "      <th>4</th>\n",
       "      <td>11</td>\n",
       "      <td>Gender</td>\n",
       "    </tr>\n",
       "  </tbody>\n",
       "</table>\n",
       "</div>"
      ],
      "text/plain": [
       "   index     Topic\n",
       "0      0     Other\n",
       "1      4  Religion\n",
       "2      5     Other\n",
       "3     10     Other\n",
       "4     11    Gender"
      ]
     },
     "execution_count": 29,
     "metadata": {},
     "output_type": "execute_result"
    }
   ],
   "source": [
    "# Info Data Frame\n",
    "\n",
    "df_topic.head()"
   ]
  },
  {
   "cell_type": "code",
   "execution_count": 30,
   "id": "233cb771",
   "metadata": {},
   "outputs": [
    {
     "data": {
      "text/html": [
       "<div>\n",
       "<style scoped>\n",
       "    .dataframe tbody tr th:only-of-type {\n",
       "        vertical-align: middle;\n",
       "    }\n",
       "\n",
       "    .dataframe tbody tr th {\n",
       "        vertical-align: top;\n",
       "    }\n",
       "\n",
       "    .dataframe thead th {\n",
       "        text-align: right;\n",
       "    }\n",
       "</style>\n",
       "<table border=\"1\" class=\"dataframe\">\n",
       "  <thead>\n",
       "    <tr style=\"text-align: right;\">\n",
       "      <th></th>\n",
       "      <th>Topic</th>\n",
       "      <th>Level</th>\n",
       "    </tr>\n",
       "  </thead>\n",
       "  <tbody>\n",
       "    <tr>\n",
       "      <th>0</th>\n",
       "      <td>Other</td>\n",
       "      <td>Weak</td>\n",
       "    </tr>\n",
       "    <tr>\n",
       "      <th>1</th>\n",
       "      <td>Religion</td>\n",
       "      <td>Moderate</td>\n",
       "    </tr>\n",
       "    <tr>\n",
       "      <th>2</th>\n",
       "      <td>Other</td>\n",
       "      <td>Moderate</td>\n",
       "    </tr>\n",
       "    <tr>\n",
       "      <th>3</th>\n",
       "      <td>Other</td>\n",
       "      <td>Weak</td>\n",
       "    </tr>\n",
       "    <tr>\n",
       "      <th>4</th>\n",
       "      <td>Gender</td>\n",
       "      <td>Weak</td>\n",
       "    </tr>\n",
       "  </tbody>\n",
       "</table>\n",
       "</div>"
      ],
      "text/plain": [
       "      Topic     Level\n",
       "0     Other      Weak\n",
       "1  Religion  Moderate\n",
       "2     Other  Moderate\n",
       "3     Other      Weak\n",
       "4    Gender      Weak"
      ]
     },
     "execution_count": 30,
     "metadata": {},
     "output_type": "execute_result"
    }
   ],
   "source": [
    "# join df_level and df_topic\n",
    "\n",
    "df = pd.merge(df_topic, df_level, on='index').drop(['index'], axis=1)\n",
    "df.head()"
   ]
  },
  {
   "cell_type": "code",
   "execution_count": 31,
   "id": "91dc2785",
   "metadata": {},
   "outputs": [
    {
     "data": {
      "image/png": "[encoded data removed]",
      "text/plain": [
       "<Figure size 800x600 with 1 Axes>"
      ]
     },
     "metadata": {},
     "output_type": "display_data"
    }
   ],
   "source": [
    "# Visualisasi\n",
    "\n",
    "plt.figure(figsize=(8,6))\n",
    "plt.title('Topik & level hatespeech', fontsize=14)\n",
    "sns.countplot(x='Topic', hue='Level', data=df)\n",
    "plt.xlabel('Topik')\n",
    "plt.ylabel('Jumlah')\n",
    "plt.legend(title='Tingkat Bahasa', loc='upper right')\n",
    "plt.show()"
   ]
  },
  {
   "cell_type": "code",
   "execution_count": 32,
   "id": "a3cda905",
   "metadata": {},
   "outputs": [
    {
     "name": "stdout",
     "output_type": "stream",
     "text": [
      "Weak Hate Speech in Other topic example: - disaat semua cowok berusaha melacak perhatian gue. loe lantas remehkan perhatian yg gue kasih khusus ke elo. basic elo cowok bego ! ! !'\n"
     ]
    }
   ],
   "source": [
    "# Tweet dengan HS_Weak dlm HS_Other example\n",
    "\n",
    "print('Weak Hate Speech in Other topic example: {}'.format(data[(data['HS_Weak'] == 1) & (data['HS_Other']==1)]['Tweet'][0]))"
   ]
  },
  {
   "cell_type": "code",
   "execution_count": 33,
   "id": "c3310306",
   "metadata": {},
   "outputs": [
    {
     "name": "stdout",
     "output_type": "stream",
     "text": [
      "Moderate Hate Speech in Other topic example: Pegawai Guardian training lagi kek Mentang2 gue kek gembel cuman kaos sama Flat shoes nanya dijutekin bangsad emang males belinya juga kabur gua ke matahari'\n"
     ]
    }
   ],
   "source": [
    "# Tweet dengan HS_Moderate dlm HS_Other example\n",
    "\n",
    "print('Moderate Hate Speech in Other topic example: {}'.format(data[(data['HS_Moderate'] == 1) & \n",
    "                                                                    (data['HS_Other']==1)]['Tweet'][35]))"
   ]
  },
  {
   "cell_type": "code",
   "execution_count": 34,
   "id": "f823c066",
   "metadata": {},
   "outputs": [
    {
     "name": "stdout",
     "output_type": "stream",
     "text": [
      "Strong Hate Speech in Other topic example: Yup... Negara ini sangat tak pantas dipimpin seorang yg tak faham mengelola Negara dgn benar lengserkan jokowi\n"
     ]
    }
   ],
   "source": [
    "# Tweet dengan HS_Strong in HS_Other example\n",
    "\n",
    "print('Strong Hate Speech in Other topic example: {}'.format(data[(data['HS_Strong'] == 1) & \n",
    "                                                                  (data['HS_Other']==1)]['Tweet'][6590]))"
   ]
  },
  {
   "cell_type": "markdown",
   "id": "dd6ab92b",
   "metadata": {},
   "source": [
    "# Kesimpulan"
   ]
  },
  {
   "cell_type": "markdown",
   "id": "f714d71d",
   "metadata": {},
   "source": [
    "Dari hasil analisis sentiment, diperoleh bahwa masih banyak masyarakat yang memberikan sentimen negatif pada PEMILU 2019 yang ditujukan ke salah satu pihak tertentu. Dan topik yang paling banyak dibahas tentang agama. Informasi ini tentu berguna pada PEMILU 2024 dimana kandidat calon presiden perlu mempersiapkan strategi untuk menarik simpati masyarakat, salah satunya dari segi agama \n"
   ]
  },
  {
   "cell_type": "markdown",
   "id": "f20dcbb8",
   "metadata": {},
   "source": [
    "## Cleansing Data"
   ]
  },
  {
   "cell_type": "markdown",
   "id": "fd7824f6",
   "metadata": {},
   "source": [
    "#### Setelah melakukan analisis \"Data_Tweet\" kita menemukan 56% tweet yang bersifat negatif dengan abusive 13%. Oleh karna itu kita akan melakukan cleansing data dan membangun sebuah algoritma untuk menangani masalah tersebut Algoritma akan diterapkan di API"
   ]
  },
  {
   "cell_type": "code",
   "execution_count": 35,
   "id": "fb66d085",
   "metadata": {},
   "outputs": [],
   "source": [
    "#Load semua data yang diperlukan\n",
    "\n",
    "abusive = pd.read_csv(\"abusive.csv\")\n",
    "\n",
    "kamusalay = pd.read_csv('new_kamusalay.csv', encoding='ISO-8859-1')\n",
    "\n",
    "data_tweet = pd.read_csv('data.csv', encoding ='ISO-8859-1')"
   ]
  },
  {
   "cell_type": "code",
   "execution_count": 36,
   "id": "4f47672a",
   "metadata": {
    "scrolled": true
   },
   "outputs": [
    {
     "data": {
      "text/html": [
       "<div>\n",
       "<style scoped>\n",
       "    .dataframe tbody tr th:only-of-type {\n",
       "        vertical-align: middle;\n",
       "    }\n",
       "\n",
       "    .dataframe tbody tr th {\n",
       "        vertical-align: top;\n",
       "    }\n",
       "\n",
       "    .dataframe thead th {\n",
       "        text-align: right;\n",
       "    }\n",
       "</style>\n",
       "<table border=\"1\" class=\"dataframe\">\n",
       "  <thead>\n",
       "    <tr style=\"text-align: right;\">\n",
       "      <th></th>\n",
       "      <th>Tweet</th>\n",
       "      <th>HS</th>\n",
       "      <th>Abusive</th>\n",
       "      <th>HS_Individual</th>\n",
       "      <th>HS_Group</th>\n",
       "      <th>HS_Religion</th>\n",
       "      <th>HS_Race</th>\n",
       "      <th>HS_Physical</th>\n",
       "      <th>HS_Gender</th>\n",
       "      <th>HS_Other</th>\n",
       "      <th>HS_Weak</th>\n",
       "      <th>HS_Moderate</th>\n",
       "      <th>HS_Strong</th>\n",
       "    </tr>\n",
       "  </thead>\n",
       "  <tbody>\n",
       "    <tr>\n",
       "      <th>0</th>\n",
       "      <td>- disaat semua cowok berusaha melacak perhatia...</td>\n",
       "      <td>1</td>\n",
       "      <td>1</td>\n",
       "      <td>1</td>\n",
       "      <td>0</td>\n",
       "      <td>0</td>\n",
       "      <td>0</td>\n",
       "      <td>0</td>\n",
       "      <td>0</td>\n",
       "      <td>1</td>\n",
       "      <td>1</td>\n",
       "      <td>0</td>\n",
       "      <td>0</td>\n",
       "    </tr>\n",
       "    <tr>\n",
       "      <th>1</th>\n",
       "      <td>RT USER: USER siapa yang telat ngasih tau elu?...</td>\n",
       "      <td>0</td>\n",
       "      <td>1</td>\n",
       "      <td>0</td>\n",
       "      <td>0</td>\n",
       "      <td>0</td>\n",
       "      <td>0</td>\n",
       "      <td>0</td>\n",
       "      <td>0</td>\n",
       "      <td>0</td>\n",
       "      <td>0</td>\n",
       "      <td>0</td>\n",
       "      <td>0</td>\n",
       "    </tr>\n",
       "    <tr>\n",
       "      <th>2</th>\n",
       "      <td>41. Kadang aku berfikir, kenapa aku tetap perc...</td>\n",
       "      <td>0</td>\n",
       "      <td>0</td>\n",
       "      <td>0</td>\n",
       "      <td>0</td>\n",
       "      <td>0</td>\n",
       "      <td>0</td>\n",
       "      <td>0</td>\n",
       "      <td>0</td>\n",
       "      <td>0</td>\n",
       "      <td>0</td>\n",
       "      <td>0</td>\n",
       "      <td>0</td>\n",
       "    </tr>\n",
       "    <tr>\n",
       "      <th>3</th>\n",
       "      <td>USER USER AKU ITU AKU\\n\\nKU TAU MATAMU SIPIT T...</td>\n",
       "      <td>0</td>\n",
       "      <td>0</td>\n",
       "      <td>0</td>\n",
       "      <td>0</td>\n",
       "      <td>0</td>\n",
       "      <td>0</td>\n",
       "      <td>0</td>\n",
       "      <td>0</td>\n",
       "      <td>0</td>\n",
       "      <td>0</td>\n",
       "      <td>0</td>\n",
       "      <td>0</td>\n",
       "    </tr>\n",
       "    <tr>\n",
       "      <th>4</th>\n",
       "      <td>USER USER Kaum cebong kapir udah keliatan dong...</td>\n",
       "      <td>1</td>\n",
       "      <td>1</td>\n",
       "      <td>0</td>\n",
       "      <td>1</td>\n",
       "      <td>1</td>\n",
       "      <td>0</td>\n",
       "      <td>0</td>\n",
       "      <td>0</td>\n",
       "      <td>0</td>\n",
       "      <td>0</td>\n",
       "      <td>1</td>\n",
       "      <td>0</td>\n",
       "    </tr>\n",
       "  </tbody>\n",
       "</table>\n",
       "</div>"
      ],
      "text/plain": [
       "                                               Tweet  HS  Abusive  \\\n",
       "0  - disaat semua cowok berusaha melacak perhatia...   1        1   \n",
       "1  RT USER: USER siapa yang telat ngasih tau elu?...   0        1   \n",
       "2  41. Kadang aku berfikir, kenapa aku tetap perc...   0        0   \n",
       "3  USER USER AKU ITU AKU\\n\\nKU TAU MATAMU SIPIT T...   0        0   \n",
       "4  USER USER Kaum cebong kapir udah keliatan dong...   1        1   \n",
       "\n",
       "   HS_Individual  HS_Group  HS_Religion  HS_Race  HS_Physical  HS_Gender  \\\n",
       "0              1         0            0        0            0          0   \n",
       "1              0         0            0        0            0          0   \n",
       "2              0         0            0        0            0          0   \n",
       "3              0         0            0        0            0          0   \n",
       "4              0         1            1        0            0          0   \n",
       "\n",
       "   HS_Other  HS_Weak  HS_Moderate  HS_Strong  \n",
       "0         1        1            0          0  \n",
       "1         0        0            0          0  \n",
       "2         0        0            0          0  \n",
       "3         0        0            0          0  \n",
       "4         0        0            1          0  "
      ]
     },
     "execution_count": 36,
     "metadata": {},
     "output_type": "execute_result"
    }
   ],
   "source": [
    "#Head of data tweet\n",
    "data_tweet.head()"
   ]
  },
  {
   "cell_type": "code",
   "execution_count": 37,
   "id": "e2449503",
   "metadata": {},
   "outputs": [],
   "source": [
    "#Terapkan fungsi regex untuk cleansing\n",
    "def lowercase(text):\n",
    "    return text.lower()\n",
    "\n",
    "def remove_nonaplhanumeric(text):\n",
    "    text = re.sub('[^0-9a-zA-Z]+', ' ', text) \n",
    "    return text\n",
    "\n",
    "def remove_unnecessary_char(text):\n",
    "    text = re.sub('\\\\+n', ' ', text)\n",
    "    text = re.sub('\\n',\" \",text) # Remove every '\\n'\n",
    "    \n",
    "    text = re.sub('rt',' ',text) # Remove every retweet symbol\n",
    "    text = re.sub('RT',' ',text) # Remove every retweet symbol\n",
    "    text = re.sub('user',' ',text) # Remove every username\n",
    "    text = re.sub('USER', ' ', text)\n",
    "    text = re.sub('((www\\.[^\\s]+)|(https?://[^\\s]+)|(http?://[^\\s]+))',' ',text) # Remove \n",
    "    text = re.sub(':', ' ', text)\n",
    "    text = re.sub(';', ' ', text)\n",
    "    text = re.sub('\\\\+n', ' ', text)\n",
    "    text = re.sub('\\n',\" \",text) # Remove every '\\n'\n",
    "    text = re.sub('\\\\+', ' ', text)\n",
    "    text = re.sub('  +', ' ', text) # Remove extra spaces\n",
    "    return text\n",
    "\n",
    "def remove_emoticon_byte(text):\n",
    "    text = text.replace(\"\\\\\", \" \")\n",
    "    text = re.sub('x..', ' ', text)\n",
    "    text = re.sub(' n ', ' ', text)\n",
    "    text = re.sub('\\\\+', ' ', text)\n",
    "    text = re.sub('  +', ' ', text)\n",
    "    return text\n",
    "\n",
    "def remove_early_space(text):\n",
    "    if text[0] == ' ':\n",
    "        return text[1:]\n",
    "    else:\n",
    "        return text"
   ]
  },
  {
   "cell_type": "code",
   "execution_count": 38,
   "id": "c7d93431",
   "metadata": {},
   "outputs": [],
   "source": [
    "def preprocess(text):\n",
    "    text = lowercase(text) \n",
    "    text = remove_nonaplhanumeric(text) \n",
    "    text = remove_unnecessary_char(text) \n",
    "    \n",
    "    text = remove_unnecessary_char(text)\n",
    "    text = remove_emoticon_byte(text)\n",
    "    text = remove_early_space(text)\n",
    "    return text"
   ]
  },
  {
   "cell_type": "code",
   "execution_count": 39,
   "id": "6f29b5fe",
   "metadata": {},
   "outputs": [],
   "source": [
    "data_tweet['Tweet'] = data_tweet['Tweet'].apply(preprocess)"
   ]
  },
  {
   "cell_type": "code",
   "execution_count": 40,
   "id": "07f864bb",
   "metadata": {
    "scrolled": true
   },
   "outputs": [
    {
     "data": {
      "text/html": [
       "<div>\n",
       "<style scoped>\n",
       "    .dataframe tbody tr th:only-of-type {\n",
       "        vertical-align: middle;\n",
       "    }\n",
       "\n",
       "    .dataframe tbody tr th {\n",
       "        vertical-align: top;\n",
       "    }\n",
       "\n",
       "    .dataframe thead th {\n",
       "        text-align: right;\n",
       "    }\n",
       "</style>\n",
       "<table border=\"1\" class=\"dataframe\">\n",
       "  <thead>\n",
       "    <tr style=\"text-align: right;\">\n",
       "      <th></th>\n",
       "      <th>Tweet</th>\n",
       "      <th>HS</th>\n",
       "      <th>Abusive</th>\n",
       "      <th>HS_Individual</th>\n",
       "      <th>HS_Group</th>\n",
       "      <th>HS_Religion</th>\n",
       "      <th>HS_Race</th>\n",
       "      <th>HS_Physical</th>\n",
       "      <th>HS_Gender</th>\n",
       "      <th>HS_Other</th>\n",
       "      <th>HS_Weak</th>\n",
       "      <th>HS_Moderate</th>\n",
       "      <th>HS_Strong</th>\n",
       "    </tr>\n",
       "  </thead>\n",
       "  <tbody>\n",
       "    <tr>\n",
       "      <th>0</th>\n",
       "      <td>disaat semua cowok berusaha melacak perhatian ...</td>\n",
       "      <td>1</td>\n",
       "      <td>1</td>\n",
       "      <td>1</td>\n",
       "      <td>0</td>\n",
       "      <td>0</td>\n",
       "      <td>0</td>\n",
       "      <td>0</td>\n",
       "      <td>0</td>\n",
       "      <td>1</td>\n",
       "      <td>1</td>\n",
       "      <td>0</td>\n",
       "      <td>0</td>\n",
       "    </tr>\n",
       "    <tr>\n",
       "      <th>1</th>\n",
       "      <td>siapa yang telat ngasih tau elu edan sarap gue...</td>\n",
       "      <td>0</td>\n",
       "      <td>1</td>\n",
       "      <td>0</td>\n",
       "      <td>0</td>\n",
       "      <td>0</td>\n",
       "      <td>0</td>\n",
       "      <td>0</td>\n",
       "      <td>0</td>\n",
       "      <td>0</td>\n",
       "      <td>0</td>\n",
       "      <td>0</td>\n",
       "      <td>0</td>\n",
       "    </tr>\n",
       "    <tr>\n",
       "      <th>2</th>\n",
       "      <td>41 kadang aku berfikir kenapa aku tetap percay...</td>\n",
       "      <td>0</td>\n",
       "      <td>0</td>\n",
       "      <td>0</td>\n",
       "      <td>0</td>\n",
       "      <td>0</td>\n",
       "      <td>0</td>\n",
       "      <td>0</td>\n",
       "      <td>0</td>\n",
       "      <td>0</td>\n",
       "      <td>0</td>\n",
       "      <td>0</td>\n",
       "      <td>0</td>\n",
       "    </tr>\n",
       "    <tr>\n",
       "      <th>3</th>\n",
       "      <td>aku itu aku nku tau matamu sipit tapi diliat d...</td>\n",
       "      <td>0</td>\n",
       "      <td>0</td>\n",
       "      <td>0</td>\n",
       "      <td>0</td>\n",
       "      <td>0</td>\n",
       "      <td>0</td>\n",
       "      <td>0</td>\n",
       "      <td>0</td>\n",
       "      <td>0</td>\n",
       "      <td>0</td>\n",
       "      <td>0</td>\n",
       "      <td>0</td>\n",
       "    </tr>\n",
       "    <tr>\n",
       "      <th>4</th>\n",
       "      <td>kaum cebong kapir udah keliatan dongoknya dari...</td>\n",
       "      <td>1</td>\n",
       "      <td>1</td>\n",
       "      <td>0</td>\n",
       "      <td>1</td>\n",
       "      <td>1</td>\n",
       "      <td>0</td>\n",
       "      <td>0</td>\n",
       "      <td>0</td>\n",
       "      <td>0</td>\n",
       "      <td>0</td>\n",
       "      <td>1</td>\n",
       "      <td>0</td>\n",
       "    </tr>\n",
       "  </tbody>\n",
       "</table>\n",
       "</div>"
      ],
      "text/plain": [
       "                                               Tweet  HS  Abusive  \\\n",
       "0  disaat semua cowok berusaha melacak perhatian ...   1        1   \n",
       "1  siapa yang telat ngasih tau elu edan sarap gue...   0        1   \n",
       "2  41 kadang aku berfikir kenapa aku tetap percay...   0        0   \n",
       "3  aku itu aku nku tau matamu sipit tapi diliat d...   0        0   \n",
       "4  kaum cebong kapir udah keliatan dongoknya dari...   1        1   \n",
       "\n",
       "   HS_Individual  HS_Group  HS_Religion  HS_Race  HS_Physical  HS_Gender  \\\n",
       "0              1         0            0        0            0          0   \n",
       "1              0         0            0        0            0          0   \n",
       "2              0         0            0        0            0          0   \n",
       "3              0         0            0        0            0          0   \n",
       "4              0         1            1        0            0          0   \n",
       "\n",
       "   HS_Other  HS_Weak  HS_Moderate  HS_Strong  \n",
       "0         1        1            0          0  \n",
       "1         0        0            0          0  \n",
       "2         0        0            0          0  \n",
       "3         0        0            0          0  \n",
       "4         0        0            1          0  "
      ]
     },
     "execution_count": 40,
     "metadata": {},
     "output_type": "execute_result"
    }
   ],
   "source": [
    "data_tweet.head()"
   ]
  },
  {
   "cell_type": "code",
   "execution_count": 41,
   "id": "77229e26",
   "metadata": {},
   "outputs": [],
   "source": [
    "Tweet = data_tweet.Tweet.to_list()"
   ]
  },
  {
   "cell_type": "code",
   "execution_count": 42,
   "id": "69433988",
   "metadata": {},
   "outputs": [
    {
     "name": "stdout",
     "output_type": "stream",
     "text": [
      "['disaat', 'semua', 'cowok', 'berusaha', 'melacak', 'perhatian', 'gue', 'loe', 'lantas', 'remehkan', 'perhatian', 'yg', 'gue', 'kasih', 'khusus', 'ke', 'elo', 'basic', 'elo', 'cowok', 'bego', '']\n",
      "['siapa', 'yang', 'telat', 'ngasih', 'tau', 'elu', 'edan', 'sarap', 'gue', 'bergaul', 'dengan', 'ciga', 'ifla', 'calis', 'sama', 'siapa', 'noh', 'licew', 'juga', '']\n",
      "['41', 'kadang', 'aku', 'berfikir', 'kenapa', 'aku', 'tetap', 'percaya', 'pada', 'tuhan', 'padahal', 'aku', 'selalu', 'jatuh', 'berkali', 'kali', 'kadang', 'aku', 'merasa', 'tuhan', 'itu', 'ninggalkan', 'aku', 'sendirian', 'ketika', 'orangtuaku', 'berencana', 'berpisah', 'ketika', 'kakakku', 'lebih', 'memilih', 'jadi', 'kristen', 'ketika', 'aku', 'anak', 'ter']\n"
     ]
    }
   ],
   "source": [
    "Tweet_split = []\n",
    "for kalimat in Tweet:\n",
    "    kalimat_split = kalimat.split(\" \")\n",
    "    Tweet_split.append(kalimat_split)\n",
    "\n",
    "for i in range(3):\n",
    "    print(Tweet_split[i])"
   ]
  },
  {
   "cell_type": "code",
   "execution_count": 43,
   "id": "25589741",
   "metadata": {},
   "outputs": [
    {
     "data": {
      "text/html": [
       "<div>\n",
       "<style scoped>\n",
       "    .dataframe tbody tr th:only-of-type {\n",
       "        vertical-align: middle;\n",
       "    }\n",
       "\n",
       "    .dataframe tbody tr th {\n",
       "        vertical-align: top;\n",
       "    }\n",
       "\n",
       "    .dataframe thead th {\n",
       "        text-align: right;\n",
       "    }\n",
       "</style>\n",
       "<table border=\"1\" class=\"dataframe\">\n",
       "  <thead>\n",
       "    <tr style=\"text-align: right;\">\n",
       "      <th></th>\n",
       "      <th>original</th>\n",
       "      <th>replacement</th>\n",
       "    </tr>\n",
       "  </thead>\n",
       "  <tbody>\n",
       "    <tr>\n",
       "      <th>0</th>\n",
       "      <td>anakjakartaasikasik</td>\n",
       "      <td>anak jakarta asyik asyik</td>\n",
       "    </tr>\n",
       "    <tr>\n",
       "      <th>1</th>\n",
       "      <td>pakcikdahtua</td>\n",
       "      <td>pak cik sudah tua</td>\n",
       "    </tr>\n",
       "    <tr>\n",
       "      <th>2</th>\n",
       "      <td>pakcikmudalagi</td>\n",
       "      <td>pak cik muda lagi</td>\n",
       "    </tr>\n",
       "    <tr>\n",
       "      <th>3</th>\n",
       "      <td>t3tapjokowi</td>\n",
       "      <td>tetap jokowi</td>\n",
       "    </tr>\n",
       "    <tr>\n",
       "      <th>4</th>\n",
       "      <td>3x</td>\n",
       "      <td>tiga kali</td>\n",
       "    </tr>\n",
       "  </tbody>\n",
       "</table>\n",
       "</div>"
      ],
      "text/plain": [
       "              original               replacement\n",
       "0  anakjakartaasikasik  anak jakarta asyik asyik\n",
       "1         pakcikdahtua         pak cik sudah tua\n",
       "2       pakcikmudalagi         pak cik muda lagi\n",
       "3          t3tapjokowi              tetap jokowi\n",
       "4                   3x                 tiga kali"
      ]
     },
     "execution_count": 43,
     "metadata": {},
     "output_type": "execute_result"
    }
   ],
   "source": [
    "kamusalay = pd.read_csv('new_kamusalay.csv', encoding='latin1', header=None)\n",
    "kamusalay = kamusalay.rename(columns={0: 'original', \n",
    "                                      1: 'replacement'})\n",
    "\n",
    "kamusalay.head()"
   ]
  },
  {
   "cell_type": "code",
   "execution_count": 44,
   "id": "7c340054",
   "metadata": {},
   "outputs": [
    {
     "name": "stdout",
     "output_type": "stream",
     "text": [
      "[('anakjakartaasikasik', 'anak jakarta asyik asyik'), ('pakcikdahtua', 'pak cik sudah tua'), ('pakcikmudalagi', 'pak cik muda lagi'), ('t3tapjokowi', 'tetap jokowi'), ('3x', 'tiga kali')]\n"
     ]
    }
   ],
   "source": [
    "#membuata dictionary dengan variabel Lalay_dict\n",
    "alay_dict = dict(zip(kamusalay['original'], kamusalay['replacement']))\n",
    "\n",
    "# Menampilkan isi dari dictionary\n",
    "print(list(alay_dict.items())[:5])"
   ]
  },
  {
   "cell_type": "code",
   "execution_count": 45,
   "id": "f22e3e61",
   "metadata": {},
   "outputs": [
    {
     "data": {
      "text/plain": [
       "['di saat semua cowok berusaha melacak perhatian gue kamu lantas remehkan perhatian yang gue kasih khusus ke kamu basic kamu cowok bego',\n",
       " 'siapa yang telat memberi tau kamu edan sarap gue bergaul dengan ciga ifla calis sama siapa itu licew juga',\n",
       " '41 kadang aku berpikir kenapa aku tetap percaya pada tuhan padahal aku selalu jatuh berkali kali kadang aku merasa tuhan itu meninggalkan aku sendirian ketika orang tuaku berencana berpisah ketika kakakku lebih memilih jadi kristen ketika aku anak ter',\n",
       " 'aku itu aku ku tau matamu sipit tapi dilihat dari mana itu aku',\n",
       " 'kaum cebong kafir sudah kelihatan dongoknya dari awal tambah dungu lagi haha']"
      ]
     },
     "execution_count": 45,
     "metadata": {},
     "output_type": "execute_result"
    }
   ],
   "source": [
    "for i in range(len(Tweet)):\n",
    "    words = Tweet[i].split() # Pecah kalimat menjadi kata-kata\n",
    "    for j in range(len(words)):\n",
    "        if words[j] in alay_dict:\n",
    "            words[j] = alay_dict[words[j]]\n",
    "    Tweet[i] = ' '.join(words) # Gabungkan kata-kata menjadi kalimat\n",
    "Tweet[:5]"
   ]
  },
  {
   "cell_type": "code",
   "execution_count": 46,
   "id": "780ab8fa",
   "metadata": {},
   "outputs": [
    {
     "name": "stdout",
     "output_type": "stream",
     "text": [
      "['alay', 'ampas', 'buta', 'keparat', 'anjing', 'anjir', 'babi', 'bacot', 'bajingan', 'banci']\n"
     ]
    }
   ],
   "source": [
    "df = pd.read_csv('abusive.csv')\n",
    "abusive_list = df['ABUSIVE'].str.lower().tolist()\n",
    "print(abusive_list[:10])"
   ]
  },
  {
   "cell_type": "code",
   "execution_count": 47,
   "id": "5c4a163f",
   "metadata": {},
   "outputs": [],
   "source": [
    "sensor = \"****\""
   ]
  },
  {
   "cell_type": "code",
   "execution_count": 48,
   "id": "a3008875",
   "metadata": {},
   "outputs": [],
   "source": [
    "Tweet_sensored = []\n",
    "for word in Tweet_split:\n",
    "    if isinstance(word, str) and word.lower() in abusive_list:\n",
    "        Tweet_sensored.append(sensor)\n",
    "    else:\n",
    "        Tweet_sensored.append(word)"
   ]
  },
  {
   "cell_type": "code",
   "execution_count": 49,
   "id": "9b22255f",
   "metadata": {},
   "outputs": [],
   "source": [
    "# Membuat koneksi ke database SQLite\n",
    "conn = sqlite3.connect('yohana_challagedb')\n",
    "\n",
    "# Membuat tabel tweet_cleansing jika belum ada\n",
    "conn.execute('''CREATE TABLE IF NOT EXISTS tweet_cleansing\n",
    "             (id INTEGER PRIMARY KEY AUTOINCREMENT,\n",
    "              tweet_cleansed TEXT)''')\n",
    "\n",
    "# Menyimpan data_tweet ke dalam tabel tweet_cleansing\n",
    "data_tweet = pd.DataFrame(data_tweet, columns=['tweet_cleansed'])\n",
    "data_tweet.to_sql('tweet_cleansing', conn, if_exists='append', index=False)\n",
    "\n",
    "# Menambahkan kolom index dan mengisi nilai index\n",
    "conn.execute(\"ALTER TABLE tweet_cleansing ADD COLUMN idx INTEGER\")\n",
    "data_tweet = pd.read_sql(\"SELECT * FROM tweet_cleansing\", conn)\n",
    "data_tweet['idx'] = range(1, len(data_tweet) + 1)\n",
    "data_tweet.to_sql('tweet_cleansing', conn, if_exists='replace', index=False)\n",
    "\n",
    "# Menutup koneksi ke database SQLite\n",
    "conn.close()"
   ]
  }
 ],
 "metadata": {
  "kernelspec": {
   "display_name": "Python 3 (ipykernel)",
   "language": "python",
   "name": "python3"
  },
  "language_info": {
   "codemirror_mode": {
    "name": "ipython",
    "version": 3
   },
   "file_extension": ".py",
   "mimetype": "text/x-python",
   "name": "python",
   "nbconvert_exporter": "python",
   "pygments_lexer": "ipython3",
   "version": "3.11.2"
  }
 },
 "nbformat": 4,
 "nbformat_minor": 5
}
